{
  "nbformat": 4,
  "nbformat_minor": 0,
  "metadata": {
    "colab": {
      "provenance": [],
      "mount_file_id": "1ZNDTit0fYFOfJRVv8rILxrAboQoKsAeu",
      "authorship_tag": "ABX9TyM8mdxT+0rfEcDZk8YrjH9I",
      "include_colab_link": true
    },
    "kernelspec": {
      "name": "python3",
      "display_name": "Python 3"
    },
    "language_info": {
      "name": "python"
    }
  },
  "cells": [
    {
      "cell_type": "markdown",
      "metadata": {
        "id": "view-in-github",
        "colab_type": "text"
      },
      "source": [
        "<a href=\"https://colab.research.google.com/github/arpanastanley24/OIBSIP/blob/main/oibsip_taskno3.ipynb\" target=\"_parent\"><img src=\"https://colab.research.google.com/assets/colab-badge.svg\" alt=\"Open In Colab\"/></a>"
      ]
    },
    {
      "cell_type": "markdown",
      "source": [
        "# **PREDICTION OF THE SALES WITH RESPECT TO ADVERTISING COSTS**"
      ],
      "metadata": {
        "id": "hBJZ1lBtOKa2"
      }
    },
    {
      "cell_type": "markdown",
      "source": [
        "**Description:**\n",
        "\n",
        "The advertising dataset captures the sales revenue generated with respect to advertisement costs across multiple channels like radio, tv, and newspapers.\n",
        "\n",
        "It is required to understand the impact of ad budgets on the overall sales.\n",
        "\n",
        "**Acknowledgement:**\n",
        "\n",
        "The dataset is taken from Kaggle\n",
        "\n",
        "**Objective:**\n",
        "\n",
        "Understand the Dataset & cleanup (if required).\n",
        "Build Regression models to predict the sales w.r.t a single & multiple features.\n",
        "Also evaluate the models & compare their respective scores like R2, MSE, etc."
      ],
      "metadata": {
        "id": "-iq-WfQMuy8n"
      }
    },
    {
      "cell_type": "code",
      "execution_count": null,
      "metadata": {
        "id": "2-WKrMknoOA7"
      },
      "outputs": [],
      "source": [
        "#Import the libraries\n",
        "import pandas as pd\n",
        "import numpy as np\n",
        "import matplotlib.pyplot as plt\n",
        "import seaborn as sns\n",
        "\n",
        "# Supress Warnings\n",
        "import warnings\n",
        "warnings.filterwarnings(\"ignore\")"
      ]
    },
    {
      "cell_type": "code",
      "source": [
        "#Import the dataset\n",
        "data = pd.read_csv('/content/drive/MyDrive/Advertising.csv')\n",
        "\n",
        "#Retrieves first 5 rows\n",
        "data.head()"
      ],
      "metadata": {
        "colab": {
          "base_uri": "https://localhost:8080/",
          "height": 206
        },
        "id": "euy3Diupr2fG",
        "outputId": "8d3aff3a-0a01-48f3-8c7c-d6d47c4b5985"
      },
      "execution_count": null,
      "outputs": [
        {
          "output_type": "execute_result",
          "data": {
            "text/plain": [
              "   Unnamed: 0     TV  Radio  Newspaper  Sales\n",
              "0           1  230.1   37.8       69.2   22.1\n",
              "1           2   44.5   39.3       45.1   10.4\n",
              "2           3   17.2   45.9       69.3    9.3\n",
              "3           4  151.5   41.3       58.5   18.5\n",
              "4           5  180.8   10.8       58.4   12.9"
            ],
            "text/html": [
              "\n",
              "  <div id=\"df-97b69652-1473-4482-9c16-6ee924f1feea\">\n",
              "    <div class=\"colab-df-container\">\n",
              "      <div>\n",
              "<style scoped>\n",
              "    .dataframe tbody tr th:only-of-type {\n",
              "        vertical-align: middle;\n",
              "    }\n",
              "\n",
              "    .dataframe tbody tr th {\n",
              "        vertical-align: top;\n",
              "    }\n",
              "\n",
              "    .dataframe thead th {\n",
              "        text-align: right;\n",
              "    }\n",
              "</style>\n",
              "<table border=\"1\" class=\"dataframe\">\n",
              "  <thead>\n",
              "    <tr style=\"text-align: right;\">\n",
              "      <th></th>\n",
              "      <th>Unnamed: 0</th>\n",
              "      <th>TV</th>\n",
              "      <th>Radio</th>\n",
              "      <th>Newspaper</th>\n",
              "      <th>Sales</th>\n",
              "    </tr>\n",
              "  </thead>\n",
              "  <tbody>\n",
              "    <tr>\n",
              "      <th>0</th>\n",
              "      <td>1</td>\n",
              "      <td>230.1</td>\n",
              "      <td>37.8</td>\n",
              "      <td>69.2</td>\n",
              "      <td>22.1</td>\n",
              "    </tr>\n",
              "    <tr>\n",
              "      <th>1</th>\n",
              "      <td>2</td>\n",
              "      <td>44.5</td>\n",
              "      <td>39.3</td>\n",
              "      <td>45.1</td>\n",
              "      <td>10.4</td>\n",
              "    </tr>\n",
              "    <tr>\n",
              "      <th>2</th>\n",
              "      <td>3</td>\n",
              "      <td>17.2</td>\n",
              "      <td>45.9</td>\n",
              "      <td>69.3</td>\n",
              "      <td>9.3</td>\n",
              "    </tr>\n",
              "    <tr>\n",
              "      <th>3</th>\n",
              "      <td>4</td>\n",
              "      <td>151.5</td>\n",
              "      <td>41.3</td>\n",
              "      <td>58.5</td>\n",
              "      <td>18.5</td>\n",
              "    </tr>\n",
              "    <tr>\n",
              "      <th>4</th>\n",
              "      <td>5</td>\n",
              "      <td>180.8</td>\n",
              "      <td>10.8</td>\n",
              "      <td>58.4</td>\n",
              "      <td>12.9</td>\n",
              "    </tr>\n",
              "  </tbody>\n",
              "</table>\n",
              "</div>\n",
              "      <button class=\"colab-df-convert\" onclick=\"convertToInteractive('df-97b69652-1473-4482-9c16-6ee924f1feea')\"\n",
              "              title=\"Convert this dataframe to an interactive table.\"\n",
              "              style=\"display:none;\">\n",
              "        \n",
              "  <svg xmlns=\"http://www.w3.org/2000/svg\" height=\"24px\"viewBox=\"0 0 24 24\"\n",
              "       width=\"24px\">\n",
              "    <path d=\"M0 0h24v24H0V0z\" fill=\"none\"/>\n",
              "    <path d=\"M18.56 5.44l.94 2.06.94-2.06 2.06-.94-2.06-.94-.94-2.06-.94 2.06-2.06.94zm-11 1L8.5 8.5l.94-2.06 2.06-.94-2.06-.94L8.5 2.5l-.94 2.06-2.06.94zm10 10l.94 2.06.94-2.06 2.06-.94-2.06-.94-.94-2.06-.94 2.06-2.06.94z\"/><path d=\"M17.41 7.96l-1.37-1.37c-.4-.4-.92-.59-1.43-.59-.52 0-1.04.2-1.43.59L10.3 9.45l-7.72 7.72c-.78.78-.78 2.05 0 2.83L4 21.41c.39.39.9.59 1.41.59.51 0 1.02-.2 1.41-.59l7.78-7.78 2.81-2.81c.8-.78.8-2.07 0-2.86zM5.41 20L4 18.59l7.72-7.72 1.47 1.35L5.41 20z\"/>\n",
              "  </svg>\n",
              "      </button>\n",
              "      \n",
              "  <style>\n",
              "    .colab-df-container {\n",
              "      display:flex;\n",
              "      flex-wrap:wrap;\n",
              "      gap: 12px;\n",
              "    }\n",
              "\n",
              "    .colab-df-convert {\n",
              "      background-color: #E8F0FE;\n",
              "      border: none;\n",
              "      border-radius: 50%;\n",
              "      cursor: pointer;\n",
              "      display: none;\n",
              "      fill: #1967D2;\n",
              "      height: 32px;\n",
              "      padding: 0 0 0 0;\n",
              "      width: 32px;\n",
              "    }\n",
              "\n",
              "    .colab-df-convert:hover {\n",
              "      background-color: #E2EBFA;\n",
              "      box-shadow: 0px 1px 2px rgba(60, 64, 67, 0.3), 0px 1px 3px 1px rgba(60, 64, 67, 0.15);\n",
              "      fill: #174EA6;\n",
              "    }\n",
              "\n",
              "    [theme=dark] .colab-df-convert {\n",
              "      background-color: #3B4455;\n",
              "      fill: #D2E3FC;\n",
              "    }\n",
              "\n",
              "    [theme=dark] .colab-df-convert:hover {\n",
              "      background-color: #434B5C;\n",
              "      box-shadow: 0px 1px 3px 1px rgba(0, 0, 0, 0.15);\n",
              "      filter: drop-shadow(0px 1px 2px rgba(0, 0, 0, 0.3));\n",
              "      fill: #FFFFFF;\n",
              "    }\n",
              "  </style>\n",
              "\n",
              "      <script>\n",
              "        const buttonEl =\n",
              "          document.querySelector('#df-97b69652-1473-4482-9c16-6ee924f1feea button.colab-df-convert');\n",
              "        buttonEl.style.display =\n",
              "          google.colab.kernel.accessAllowed ? 'block' : 'none';\n",
              "\n",
              "        async function convertToInteractive(key) {\n",
              "          const element = document.querySelector('#df-97b69652-1473-4482-9c16-6ee924f1feea');\n",
              "          const dataTable =\n",
              "            await google.colab.kernel.invokeFunction('convertToInteractive',\n",
              "                                                     [key], {});\n",
              "          if (!dataTable) return;\n",
              "\n",
              "          const docLinkHtml = 'Like what you see? Visit the ' +\n",
              "            '<a target=\"_blank\" href=https://colab.research.google.com/notebooks/data_table.ipynb>data table notebook</a>'\n",
              "            + ' to learn more about interactive tables.';\n",
              "          element.innerHTML = '';\n",
              "          dataTable['output_type'] = 'display_data';\n",
              "          await google.colab.output.renderOutput(dataTable, element);\n",
              "          const docLink = document.createElement('div');\n",
              "          docLink.innerHTML = docLinkHtml;\n",
              "          element.appendChild(docLink);\n",
              "        }\n",
              "      </script>\n",
              "    </div>\n",
              "  </div>\n",
              "  "
            ]
          },
          "metadata": {},
          "execution_count": 2
        }
      ]
    },
    {
      "cell_type": "code",
      "source": [
        "#Columns in the dataset\n",
        "data.columns"
      ],
      "metadata": {
        "colab": {
          "base_uri": "https://localhost:8080/"
        },
        "id": "lXsC8QASr2i-",
        "outputId": "7c511db8-9f32-4c56-a4ae-e8703116d862"
      },
      "execution_count": null,
      "outputs": [
        {
          "output_type": "execute_result",
          "data": {
            "text/plain": [
              "Index(['Unnamed: 0', 'TV', 'Radio', 'Newspaper', 'Sales'], dtype='object')"
            ]
          },
          "metadata": {},
          "execution_count": 3
        }
      ]
    },
    {
      "cell_type": "code",
      "source": [
        "#Removing a variable\n",
        "df = data.drop(['Unnamed: 0'], axis=1)"
      ],
      "metadata": {
        "id": "QTv0GF7vr2nU"
      },
      "execution_count": null,
      "outputs": []
    },
    {
      "cell_type": "code",
      "source": [
        "#Data types of features\n",
        "df.dtypes"
      ],
      "metadata": {
        "colab": {
          "base_uri": "https://localhost:8080/"
        },
        "id": "rs7LuLuHr2pk",
        "outputId": "68d7ba41-9ce3-42d6-ae16-11fe524d8328"
      },
      "execution_count": null,
      "outputs": [
        {
          "output_type": "execute_result",
          "data": {
            "text/plain": [
              "TV           float64\n",
              "Radio        float64\n",
              "Newspaper    float64\n",
              "Sales        float64\n",
              "dtype: object"
            ]
          },
          "metadata": {},
          "execution_count": 5
        }
      ]
    },
    {
      "cell_type": "code",
      "source": [
        "#Checking for null values\n",
        "df.isna().sum()"
      ],
      "metadata": {
        "colab": {
          "base_uri": "https://localhost:8080/"
        },
        "id": "BaXWlo7jr2rs",
        "outputId": "f5c1e394-0e94-45cd-d3bd-bde7caf7e486"
      },
      "execution_count": null,
      "outputs": [
        {
          "output_type": "execute_result",
          "data": {
            "text/plain": [
              "TV           0\n",
              "Radio        0\n",
              "Newspaper    0\n",
              "Sales        0\n",
              "dtype: int64"
            ]
          },
          "metadata": {},
          "execution_count": 6
        }
      ]
    },
    {
      "cell_type": "code",
      "source": [
        "#Checking for duplicate values\n",
        "df.duplicated().sum()"
      ],
      "metadata": {
        "colab": {
          "base_uri": "https://localhost:8080/"
        },
        "id": "2sxUkqLir2t2",
        "outputId": "0728b705-43a3-4dfc-b9f6-2703fc594104"
      },
      "execution_count": null,
      "outputs": [
        {
          "output_type": "execute_result",
          "data": {
            "text/plain": [
              "0"
            ]
          },
          "metadata": {},
          "execution_count": 7
        }
      ]
    },
    {
      "cell_type": "code",
      "source": [
        "#Size of the dataset\n",
        "print(\"Size of Dataset: {} rows , {} columns\".format(df.shape[0],df.shape[1]))"
      ],
      "metadata": {
        "colab": {
          "base_uri": "https://localhost:8080/"
        },
        "id": "SYnELxhBtwZE",
        "outputId": "85d30800-0bae-403a-b021-d223d4a41203"
      },
      "execution_count": null,
      "outputs": [
        {
          "output_type": "stream",
          "name": "stdout",
          "text": [
            "Size of Dataset: 200 rows , 4 columns\n"
          ]
        }
      ]
    },
    {
      "cell_type": "code",
      "source": [
        "df.info()"
      ],
      "metadata": {
        "colab": {
          "base_uri": "https://localhost:8080/"
        },
        "id": "PfSql7yNtwbD",
        "outputId": "60f3107b-f37f-4a82-d5cc-a29a9ff4ad39"
      },
      "execution_count": null,
      "outputs": [
        {
          "output_type": "stream",
          "name": "stdout",
          "text": [
            "<class 'pandas.core.frame.DataFrame'>\n",
            "RangeIndex: 200 entries, 0 to 199\n",
            "Data columns (total 4 columns):\n",
            " #   Column     Non-Null Count  Dtype  \n",
            "---  ------     --------------  -----  \n",
            " 0   TV         200 non-null    float64\n",
            " 1   Radio      200 non-null    float64\n",
            " 2   Newspaper  200 non-null    float64\n",
            " 3   Sales      200 non-null    float64\n",
            "dtypes: float64(4)\n",
            "memory usage: 6.4 KB\n"
          ]
        }
      ]
    },
    {
      "cell_type": "code",
      "source": [
        "#Summary measure\n",
        "df.describe().T.style.background_gradient(cmap='YlGnBu')"
      ],
      "metadata": {
        "colab": {
          "base_uri": "https://localhost:8080/",
          "height": 175
        },
        "id": "j6K0qOq_twfE",
        "outputId": "151c4cc1-0648-4737-a89e-0ac433f6e179"
      },
      "execution_count": null,
      "outputs": [
        {
          "output_type": "execute_result",
          "data": {
            "text/plain": [
              "<pandas.io.formats.style.Styler at 0x7f5866e53a60>"
            ],
            "text/html": [
              "<style type=\"text/css\">\n",
              "#T_b80af_row0_col0, #T_b80af_row1_col0, #T_b80af_row1_col3, #T_b80af_row1_col4, #T_b80af_row2_col0, #T_b80af_row3_col0, #T_b80af_row3_col1, #T_b80af_row3_col2, #T_b80af_row3_col5, #T_b80af_row3_col6, #T_b80af_row3_col7 {\n",
              "  background-color: #ffffd9;\n",
              "  color: #000000;\n",
              "}\n",
              "#T_b80af_row0_col1, #T_b80af_row0_col2, #T_b80af_row0_col4, #T_b80af_row0_col5, #T_b80af_row0_col6, #T_b80af_row0_col7, #T_b80af_row3_col3 {\n",
              "  background-color: #081d58;\n",
              "  color: #f1f1f1;\n",
              "}\n",
              "#T_b80af_row0_col3 {\n",
              "  background-color: #61c2bf;\n",
              "  color: #000000;\n",
              "}\n",
              "#T_b80af_row1_col1 {\n",
              "  background-color: #f5fbc4;\n",
              "  color: #000000;\n",
              "}\n",
              "#T_b80af_row1_col2 {\n",
              "  background-color: #eef8b3;\n",
              "  color: #000000;\n",
              "}\n",
              "#T_b80af_row1_col5 {\n",
              "  background-color: #f5fbc2;\n",
              "  color: #000000;\n",
              "}\n",
              "#T_b80af_row1_col6, #T_b80af_row2_col5 {\n",
              "  background-color: #f1fabb;\n",
              "  color: #000000;\n",
              "}\n",
              "#T_b80af_row1_col7 {\n",
              "  background-color: #f3fabf;\n",
              "  color: #000000;\n",
              "}\n",
              "#T_b80af_row2_col1 {\n",
              "  background-color: #edf8b2;\n",
              "  color: #000000;\n",
              "}\n",
              "#T_b80af_row2_col2 {\n",
              "  background-color: #d5efb3;\n",
              "  color: #000000;\n",
              "}\n",
              "#T_b80af_row2_col3 {\n",
              "  background-color: #dbf1b2;\n",
              "  color: #000000;\n",
              "}\n",
              "#T_b80af_row2_col4 {\n",
              "  background-color: #f9fdcb;\n",
              "  color: #000000;\n",
              "}\n",
              "#T_b80af_row2_col6 {\n",
              "  background-color: #e9f7b1;\n",
              "  color: #000000;\n",
              "}\n",
              "#T_b80af_row2_col7 {\n",
              "  background-color: #9ed9b8;\n",
              "  color: #000000;\n",
              "}\n",
              "#T_b80af_row3_col4 {\n",
              "  background-color: #feffd8;\n",
              "  color: #000000;\n",
              "}\n",
              "</style>\n",
              "<table id=\"T_b80af\" class=\"dataframe\">\n",
              "  <thead>\n",
              "    <tr>\n",
              "      <th class=\"blank level0\" >&nbsp;</th>\n",
              "      <th id=\"T_b80af_level0_col0\" class=\"col_heading level0 col0\" >count</th>\n",
              "      <th id=\"T_b80af_level0_col1\" class=\"col_heading level0 col1\" >mean</th>\n",
              "      <th id=\"T_b80af_level0_col2\" class=\"col_heading level0 col2\" >std</th>\n",
              "      <th id=\"T_b80af_level0_col3\" class=\"col_heading level0 col3\" >min</th>\n",
              "      <th id=\"T_b80af_level0_col4\" class=\"col_heading level0 col4\" >25%</th>\n",
              "      <th id=\"T_b80af_level0_col5\" class=\"col_heading level0 col5\" >50%</th>\n",
              "      <th id=\"T_b80af_level0_col6\" class=\"col_heading level0 col6\" >75%</th>\n",
              "      <th id=\"T_b80af_level0_col7\" class=\"col_heading level0 col7\" >max</th>\n",
              "    </tr>\n",
              "  </thead>\n",
              "  <tbody>\n",
              "    <tr>\n",
              "      <th id=\"T_b80af_level0_row0\" class=\"row_heading level0 row0\" >TV</th>\n",
              "      <td id=\"T_b80af_row0_col0\" class=\"data row0 col0\" >200.000000</td>\n",
              "      <td id=\"T_b80af_row0_col1\" class=\"data row0 col1\" >147.042500</td>\n",
              "      <td id=\"T_b80af_row0_col2\" class=\"data row0 col2\" >85.854236</td>\n",
              "      <td id=\"T_b80af_row0_col3\" class=\"data row0 col3\" >0.700000</td>\n",
              "      <td id=\"T_b80af_row0_col4\" class=\"data row0 col4\" >74.375000</td>\n",
              "      <td id=\"T_b80af_row0_col5\" class=\"data row0 col5\" >149.750000</td>\n",
              "      <td id=\"T_b80af_row0_col6\" class=\"data row0 col6\" >218.825000</td>\n",
              "      <td id=\"T_b80af_row0_col7\" class=\"data row0 col7\" >296.400000</td>\n",
              "    </tr>\n",
              "    <tr>\n",
              "      <th id=\"T_b80af_level0_row1\" class=\"row_heading level0 row1\" >Radio</th>\n",
              "      <td id=\"T_b80af_row1_col0\" class=\"data row1 col0\" >200.000000</td>\n",
              "      <td id=\"T_b80af_row1_col1\" class=\"data row1 col1\" >23.264000</td>\n",
              "      <td id=\"T_b80af_row1_col2\" class=\"data row1 col2\" >14.846809</td>\n",
              "      <td id=\"T_b80af_row1_col3\" class=\"data row1 col3\" >0.000000</td>\n",
              "      <td id=\"T_b80af_row1_col4\" class=\"data row1 col4\" >9.975000</td>\n",
              "      <td id=\"T_b80af_row1_col5\" class=\"data row1 col5\" >22.900000</td>\n",
              "      <td id=\"T_b80af_row1_col6\" class=\"data row1 col6\" >36.525000</td>\n",
              "      <td id=\"T_b80af_row1_col7\" class=\"data row1 col7\" >49.600000</td>\n",
              "    </tr>\n",
              "    <tr>\n",
              "      <th id=\"T_b80af_level0_row2\" class=\"row_heading level0 row2\" >Newspaper</th>\n",
              "      <td id=\"T_b80af_row2_col0\" class=\"data row2 col0\" >200.000000</td>\n",
              "      <td id=\"T_b80af_row2_col1\" class=\"data row2 col1\" >30.554000</td>\n",
              "      <td id=\"T_b80af_row2_col2\" class=\"data row2 col2\" >21.778621</td>\n",
              "      <td id=\"T_b80af_row2_col3\" class=\"data row2 col3\" >0.300000</td>\n",
              "      <td id=\"T_b80af_row2_col4\" class=\"data row2 col4\" >12.750000</td>\n",
              "      <td id=\"T_b80af_row2_col5\" class=\"data row2 col5\" >25.750000</td>\n",
              "      <td id=\"T_b80af_row2_col6\" class=\"data row2 col6\" >45.100000</td>\n",
              "      <td id=\"T_b80af_row2_col7\" class=\"data row2 col7\" >114.000000</td>\n",
              "    </tr>\n",
              "    <tr>\n",
              "      <th id=\"T_b80af_level0_row3\" class=\"row_heading level0 row3\" >Sales</th>\n",
              "      <td id=\"T_b80af_row3_col0\" class=\"data row3 col0\" >200.000000</td>\n",
              "      <td id=\"T_b80af_row3_col1\" class=\"data row3 col1\" >14.022500</td>\n",
              "      <td id=\"T_b80af_row3_col2\" class=\"data row3 col2\" >5.217457</td>\n",
              "      <td id=\"T_b80af_row3_col3\" class=\"data row3 col3\" >1.600000</td>\n",
              "      <td id=\"T_b80af_row3_col4\" class=\"data row3 col4\" >10.375000</td>\n",
              "      <td id=\"T_b80af_row3_col5\" class=\"data row3 col5\" >12.900000</td>\n",
              "      <td id=\"T_b80af_row3_col6\" class=\"data row3 col6\" >17.400000</td>\n",
              "      <td id=\"T_b80af_row3_col7\" class=\"data row3 col7\" >27.000000</td>\n",
              "    </tr>\n",
              "  </tbody>\n",
              "</table>\n"
            ]
          },
          "metadata": {},
          "execution_count": 10
        }
      ]
    },
    {
      "cell_type": "code",
      "source": [
        "#Checking for outliers\n",
        "sns.boxplot(df)\n",
        "plt.show()"
      ],
      "metadata": {
        "colab": {
          "base_uri": "https://localhost:8080/",
          "height": 430
        },
        "id": "eUykMeWWtwnt",
        "outputId": "feaa1a5c-f8cc-4542-c19f-6354d8073ae7"
      },
      "execution_count": null,
      "outputs": [
        {
          "output_type": "display_data",
          "data": {
            "text/plain": [
              "<Figure size 640x480 with 1 Axes>"
            ],
            "image/png": "[encoded data removed]"
          },
          "metadata": {}
        }
      ]
    },
    {
      "cell_type": "markdown",
      "source": [
        "Newspaper colummn has little outlier, so removing upto 5% data will effect our dataset"
      ],
      "metadata": {
        "id": "j2SMgC4J53Cl"
      }
    },
    {
      "cell_type": "code",
      "source": [
        "#Removing outliers\n",
        "Newspaper_sales=df[\"Newspaper\"].quantile(0.98)\n",
        "df2=df[df[\"Newspaper\"]<Newspaper_sales]\n",
        "sns.boxplot(df2)\n",
        "plt.show()"
      ],
      "metadata": {
        "colab": {
          "base_uri": "https://localhost:8080/",
          "height": 430
        },
        "id": "qgHYA22atwp3",
        "outputId": "24b3064a-f60a-4b5e-8a6d-d139c8d45337"
      },
      "execution_count": null,
      "outputs": [
        {
          "output_type": "display_data",
          "data": {
            "text/plain": [
              "<Figure size 640x480 with 1 Axes>"
            ],
            "image/png": "[encoded data removed]"
          },
          "metadata": {}
        }
      ]
    },
    {
      "cell_type": "code",
      "source": [
        "#Number of lost rows\n",
        "print('Number of rows lost: ',df.shape[0]-df2.shape[0])"
      ],
      "metadata": {
        "colab": {
          "base_uri": "https://localhost:8080/"
        },
        "id": "a7I7xeDntwuU",
        "outputId": "c9706a4a-5ac0-4a7a-aa2a-21296561d2d8"
      },
      "execution_count": null,
      "outputs": [
        {
          "output_type": "stream",
          "name": "stdout",
          "text": [
            "Number of rows lost:  4\n"
          ]
        }
      ]
    },
    {
      "cell_type": "code",
      "source": [
        "#Plotting histogram\n",
        "sns.histplot(df2)"
      ],
      "metadata": {
        "colab": {
          "base_uri": "https://localhost:8080/",
          "height": 447
        },
        "id": "_yJIjT6Ttwy_",
        "outputId": "cd89830a-78c0-4835-d913-b0f7e25ef8a6"
      },
      "execution_count": null,
      "outputs": [
        {
          "output_type": "execute_result",
          "data": {
            "text/plain": [
              "<Axes: ylabel='Count'>"
            ]
          },
          "metadata": {},
          "execution_count": 14
        },
        {
          "output_type": "display_data",
          "data": {
            "text/plain": [
              "<Figure size 640x480 with 1 Axes>"
            ],
            "image/png": "[encoded data removed]"
          },
          "metadata": {}
        }
      ]
    },
    {
      "cell_type": "code",
      "source": [
        "#Correlation between the features\n",
        "sns.heatmap(df2.corr(), cmap=\"cividis\", annot=True, linewidth=2)"
      ],
      "metadata": {
        "colab": {
          "base_uri": "https://localhost:8080/",
          "height": 452
        },
        "id": "WLEDXCm5GqTC",
        "outputId": "0748a334-2212-4b21-a02d-be93f17de1b8"
      },
      "execution_count": null,
      "outputs": [
        {
          "output_type": "execute_result",
          "data": {
            "text/plain": [
              "<Axes: >"
            ]
          },
          "metadata": {},
          "execution_count": 15
        },
        {
          "output_type": "display_data",
          "data": {
            "text/plain": [
              "<Figure size 640x480 with 2 Axes>"
            ],
            "image/png": "[encoded data removed]"
          },
          "metadata": {}
        }
      ]
    },
    {
      "cell_type": "code",
      "source": [
        "# Plotting the regression line\n",
        "plt.figure(figsize =(10,10))\n",
        "\n",
        "plt.subplot(2,2,1)\n",
        "sns.regplot(data=df,x='TV',y='Sales',color='b').set_title('The Regression Line Of TV Vs Sales')\n",
        "\n",
        "plt.subplot(2,2,2)\n",
        "sns.regplot(data=df,x='Radio',y='Sales',color='r').set_title('The Regression Line Of Radio Vs Sales')\n",
        "\n",
        "plt.subplot(2,2,3)\n",
        "sns.regplot(data=df,x='Newspaper',y='Sales',color='g').set_title('The Regression Line Of Newspaper Vs Sales')"
      ],
      "metadata": {
        "colab": {
          "base_uri": "https://localhost:8080/",
          "height": 889
        },
        "id": "JhjtpFzXFyrP",
        "outputId": "d247c8c2-d682-46db-f971-fa8976903886"
      },
      "execution_count": null,
      "outputs": [
        {
          "output_type": "execute_result",
          "data": {
            "text/plain": [
              "Text(0.5, 1.0, 'The Regression Line Of Newspaper Vs Sales')"
            ]
          },
          "metadata": {},
          "execution_count": 16
        },
        {
          "output_type": "display_data",
          "data": {
            "text/plain": [
              "<Figure size 1000x1000 with 3 Axes>"
            ],
            "image/png": "[encoded data removed]"
          },
          "metadata": {}
        }
      ]
    },
    {
      "cell_type": "code",
      "source": [
        "#Choosing the independent variables\n",
        "x = df.iloc[:,:-1]\n",
        "x"
      ],
      "metadata": {
        "colab": {
          "base_uri": "https://localhost:8080/",
          "height": 423
        },
        "id": "nHnre-m6tw3M",
        "outputId": "b6f7128c-3de7-4499-d237-558610cf4fcb"
      },
      "execution_count": null,
      "outputs": [
        {
          "output_type": "execute_result",
          "data": {
            "text/plain": [
              "        TV  Radio  Newspaper\n",
              "0    230.1   37.8       69.2\n",
              "1     44.5   39.3       45.1\n",
              "2     17.2   45.9       69.3\n",
              "3    151.5   41.3       58.5\n",
              "4    180.8   10.8       58.4\n",
              "..     ...    ...        ...\n",
              "195   38.2    3.7       13.8\n",
              "196   94.2    4.9        8.1\n",
              "197  177.0    9.3        6.4\n",
              "198  283.6   42.0       66.2\n",
              "199  232.1    8.6        8.7\n",
              "\n",
              "[200 rows x 3 columns]"
            ],
            "text/html": [
              "\n",
              "  <div id=\"df-171ca9a9-c07b-4958-bc91-781d05c80d5c\">\n",
              "    <div class=\"colab-df-container\">\n",
              "      <div>\n",
              "<style scoped>\n",
              "    .dataframe tbody tr th:only-of-type {\n",
              "        vertical-align: middle;\n",
              "    }\n",
              "\n",
              "    .dataframe tbody tr th {\n",
              "        vertical-align: top;\n",
              "    }\n",
              "\n",
              "    .dataframe thead th {\n",
              "        text-align: right;\n",
              "    }\n",
              "</style>\n",
              "<table border=\"1\" class=\"dataframe\">\n",
              "  <thead>\n",
              "    <tr style=\"text-align: right;\">\n",
              "      <th></th>\n",
              "      <th>TV</th>\n",
              "      <th>Radio</th>\n",
              "      <th>Newspaper</th>\n",
              "    </tr>\n",
              "  </thead>\n",
              "  <tbody>\n",
              "    <tr>\n",
              "      <th>0</th>\n",
              "      <td>230.1</td>\n",
              "      <td>37.8</td>\n",
              "      <td>69.2</td>\n",
              "    </tr>\n",
              "    <tr>\n",
              "      <th>1</th>\n",
              "      <td>44.5</td>\n",
              "      <td>39.3</td>\n",
              "      <td>45.1</td>\n",
              "    </tr>\n",
              "    <tr>\n",
              "      <th>2</th>\n",
              "      <td>17.2</td>\n",
              "      <td>45.9</td>\n",
              "      <td>69.3</td>\n",
              "    </tr>\n",
              "    <tr>\n",
              "      <th>3</th>\n",
              "      <td>151.5</td>\n",
              "      <td>41.3</td>\n",
              "      <td>58.5</td>\n",
              "    </tr>\n",
              "    <tr>\n",
              "      <th>4</th>\n",
              "      <td>180.8</td>\n",
              "      <td>10.8</td>\n",
              "      <td>58.4</td>\n",
              "    </tr>\n",
              "    <tr>\n",
              "      <th>...</th>\n",
              "      <td>...</td>\n",
              "      <td>...</td>\n",
              "      <td>...</td>\n",
              "    </tr>\n",
              "    <tr>\n",
              "      <th>195</th>\n",
              "      <td>38.2</td>\n",
              "      <td>3.7</td>\n",
              "      <td>13.8</td>\n",
              "    </tr>\n",
              "    <tr>\n",
              "      <th>196</th>\n",
              "      <td>94.2</td>\n",
              "      <td>4.9</td>\n",
              "      <td>8.1</td>\n",
              "    </tr>\n",
              "    <tr>\n",
              "      <th>197</th>\n",
              "      <td>177.0</td>\n",
              "      <td>9.3</td>\n",
              "      <td>6.4</td>\n",
              "    </tr>\n",
              "    <tr>\n",
              "      <th>198</th>\n",
              "      <td>283.6</td>\n",
              "      <td>42.0</td>\n",
              "      <td>66.2</td>\n",
              "    </tr>\n",
              "    <tr>\n",
              "      <th>199</th>\n",
              "      <td>232.1</td>\n",
              "      <td>8.6</td>\n",
              "      <td>8.7</td>\n",
              "    </tr>\n",
              "  </tbody>\n",
              "</table>\n",
              "<p>200 rows × 3 columns</p>\n",
              "</div>\n",
              "      <button class=\"colab-df-convert\" onclick=\"convertToInteractive('df-171ca9a9-c07b-4958-bc91-781d05c80d5c')\"\n",
              "              title=\"Convert this dataframe to an interactive table.\"\n",
              "              style=\"display:none;\">\n",
              "        \n",
              "  <svg xmlns=\"http://www.w3.org/2000/svg\" height=\"24px\"viewBox=\"0 0 24 24\"\n",
              "       width=\"24px\">\n",
              "    <path d=\"M0 0h24v24H0V0z\" fill=\"none\"/>\n",
              "    <path d=\"M18.56 5.44l.94 2.06.94-2.06 2.06-.94-2.06-.94-.94-2.06-.94 2.06-2.06.94zm-11 1L8.5 8.5l.94-2.06 2.06-.94-2.06-.94L8.5 2.5l-.94 2.06-2.06.94zm10 10l.94 2.06.94-2.06 2.06-.94-2.06-.94-.94-2.06-.94 2.06-2.06.94z\"/><path d=\"M17.41 7.96l-1.37-1.37c-.4-.4-.92-.59-1.43-.59-.52 0-1.04.2-1.43.59L10.3 9.45l-7.72 7.72c-.78.78-.78 2.05 0 2.83L4 21.41c.39.39.9.59 1.41.59.51 0 1.02-.2 1.41-.59l7.78-7.78 2.81-2.81c.8-.78.8-2.07 0-2.86zM5.41 20L4 18.59l7.72-7.72 1.47 1.35L5.41 20z\"/>\n",
              "  </svg>\n",
              "      </button>\n",
              "      \n",
              "  <style>\n",
              "    .colab-df-container {\n",
              "      display:flex;\n",
              "      flex-wrap:wrap;\n",
              "      gap: 12px;\n",
              "    }\n",
              "\n",
              "    .colab-df-convert {\n",
              "      background-color: #E8F0FE;\n",
              "      border: none;\n",
              "      border-radius: 50%;\n",
              "      cursor: pointer;\n",
              "      display: none;\n",
              "      fill: #1967D2;\n",
              "      height: 32px;\n",
              "      padding: 0 0 0 0;\n",
              "      width: 32px;\n",
              "    }\n",
              "\n",
              "    .colab-df-convert:hover {\n",
              "      background-color: #E2EBFA;\n",
              "      box-shadow: 0px 1px 2px rgba(60, 64, 67, 0.3), 0px 1px 3px 1px rgba(60, 64, 67, 0.15);\n",
              "      fill: #174EA6;\n",
              "    }\n",
              "\n",
              "    [theme=dark] .colab-df-convert {\n",
              "      background-color: #3B4455;\n",
              "      fill: #D2E3FC;\n",
              "    }\n",
              "\n",
              "    [theme=dark] .colab-df-convert:hover {\n",
              "      background-color: #434B5C;\n",
              "      box-shadow: 0px 1px 3px 1px rgba(0, 0, 0, 0.15);\n",
              "      filter: drop-shadow(0px 1px 2px rgba(0, 0, 0, 0.3));\n",
              "      fill: #FFFFFF;\n",
              "    }\n",
              "  </style>\n",
              "\n",
              "      <script>\n",
              "        const buttonEl =\n",
              "          document.querySelector('#df-171ca9a9-c07b-4958-bc91-781d05c80d5c button.colab-df-convert');\n",
              "        buttonEl.style.display =\n",
              "          google.colab.kernel.accessAllowed ? 'block' : 'none';\n",
              "\n",
              "        async function convertToInteractive(key) {\n",
              "          const element = document.querySelector('#df-171ca9a9-c07b-4958-bc91-781d05c80d5c');\n",
              "          const dataTable =\n",
              "            await google.colab.kernel.invokeFunction('convertToInteractive',\n",
              "                                                     [key], {});\n",
              "          if (!dataTable) return;\n",
              "\n",
              "          const docLinkHtml = 'Like what you see? Visit the ' +\n",
              "            '<a target=\"_blank\" href=https://colab.research.google.com/notebooks/data_table.ipynb>data table notebook</a>'\n",
              "            + ' to learn more about interactive tables.';\n",
              "          element.innerHTML = '';\n",
              "          dataTable['output_type'] = 'display_data';\n",
              "          await google.colab.output.renderOutput(dataTable, element);\n",
              "          const docLink = document.createElement('div');\n",
              "          docLink.innerHTML = docLinkHtml;\n",
              "          element.appendChild(docLink);\n",
              "        }\n",
              "      </script>\n",
              "    </div>\n",
              "  </div>\n",
              "  "
            ]
          },
          "metadata": {},
          "execution_count": 17
        }
      ]
    },
    {
      "cell_type": "code",
      "source": [
        "#Choosing the target variable\n",
        "y = df['Sales']\n",
        "np.array(y)"
      ],
      "metadata": {
        "colab": {
          "base_uri": "https://localhost:8080/"
        },
        "id": "QcGos-iatw5T",
        "outputId": "fdef84c0-9bb5-457e-f71f-40267418c230"
      },
      "execution_count": null,
      "outputs": [
        {
          "output_type": "execute_result",
          "data": {
            "text/plain": [
              "array([22.1, 10.4,  9.3, 18.5, 12.9,  7.2, 11.8, 13.2,  4.8, 10.6,  8.6,\n",
              "       17.4,  9.2,  9.7, 19. , 22.4, 12.5, 24.4, 11.3, 14.6, 18. , 12.5,\n",
              "        5.6, 15.5,  9.7, 12. , 15. , 15.9, 18.9, 10.5, 21.4, 11.9,  9.6,\n",
              "       17.4,  9.5, 12.8, 25.4, 14.7, 10.1, 21.5, 16.6, 17.1, 20.7, 12.9,\n",
              "        8.5, 14.9, 10.6, 23.2, 14.8,  9.7, 11.4, 10.7, 22.6, 21.2, 20.2,\n",
              "       23.7,  5.5, 13.2, 23.8, 18.4,  8.1, 24.2, 15.7, 14. , 18. ,  9.3,\n",
              "        9.5, 13.4, 18.9, 22.3, 18.3, 12.4,  8.8, 11. , 17. ,  8.7,  6.9,\n",
              "       14.2,  5.3, 11. , 11.8, 12.3, 11.3, 13.6, 21.7, 15.2, 12. , 16. ,\n",
              "       12.9, 16.7, 11.2,  7.3, 19.4, 22.2, 11.5, 16.9, 11.7, 15.5, 25.4,\n",
              "       17.2, 11.7, 23.8, 14.8, 14.7, 20.7, 19.2,  7.2,  8.7,  5.3, 19.8,\n",
              "       13.4, 21.8, 14.1, 15.9, 14.6, 12.6, 12.2,  9.4, 15.9,  6.6, 15.5,\n",
              "        7. , 11.6, 15.2, 19.7, 10.6,  6.6,  8.8, 24.7,  9.7,  1.6, 12.7,\n",
              "        5.7, 19.6, 10.8, 11.6,  9.5, 20.8,  9.6, 20.7, 10.9, 19.2, 20.1,\n",
              "       10.4, 11.4, 10.3, 13.2, 25.4, 10.9, 10.1, 16.1, 11.6, 16.6, 19. ,\n",
              "       15.6,  3.2, 15.3, 10.1,  7.3, 12.9, 14.4, 13.3, 14.9, 18. , 11.9,\n",
              "       11.9,  8. , 12.2, 17.1, 15. ,  8.4, 14.5,  7.6, 11.7, 11.5, 27. ,\n",
              "       20.2, 11.7, 11.8, 12.6, 10.5, 12.2,  8.7, 26.2, 17.6, 22.6, 10.3,\n",
              "       17.3, 15.9,  6.7, 10.8,  9.9,  5.9, 19.6, 17.3,  7.6,  9.7, 12.8,\n",
              "       25.5, 13.4])"
            ]
          },
          "metadata": {},
          "execution_count": 18
        }
      ]
    },
    {
      "cell_type": "markdown",
      "source": [
        "# **TRAINING VALIDATION AND TEST SETS**"
      ],
      "metadata": {
        "id": "4kKq49vWHIDG"
      }
    },
    {
      "cell_type": "code",
      "source": [
        "#Train and test sets\n",
        "from sklearn.model_selection import train_test_split\n",
        "x_train, x_test, y_train, y_test = train_test_split(x, y,test_size=0.25, random_state = 1)"
      ],
      "metadata": {
        "id": "Lci34pM2tw72"
      },
      "execution_count": null,
      "outputs": []
    },
    {
      "cell_type": "code",
      "source": [
        "#Size of the train and test sets\n",
        "print(x_train.shape)\n",
        "print(x_test.shape)\n",
        "print(y_train.shape)\n",
        "print(y_test.shape)"
      ],
      "metadata": {
        "colab": {
          "base_uri": "https://localhost:8080/"
        },
        "id": "AO7P7SKatw_f",
        "outputId": "528caa9c-72a7-4415-d571-09859ec24448"
      },
      "execution_count": null,
      "outputs": [
        {
          "output_type": "stream",
          "name": "stdout",
          "text": [
            "(150, 3)\n",
            "(50, 3)\n",
            "(150,)\n",
            "(50,)\n"
          ]
        }
      ]
    },
    {
      "cell_type": "markdown",
      "source": [
        "# **MODEL BUILDING**"
      ],
      "metadata": {
        "id": "zBgqqEdhHOFv"
      }
    },
    {
      "cell_type": "markdown",
      "source": [
        "## **LINEAR REGRESSION**"
      ],
      "metadata": {
        "id": "ca0H8-60HXQH"
      }
    },
    {
      "cell_type": "markdown",
      "source": [
        "* Linear regression is one of the easiest and most popular Machine Learning algorithms.\n",
        "\n",
        "* It is a statistical method that is used for predictive analysis.\n",
        "\n",
        "* Linear regression algorithm shows a linear relationship between a dependent and one or more independent variables.\n",
        "\n",
        "* Since linear regression shows the linear relationship, which means it finds how the value of the dependent variable is changing according to the value of the independent variable."
      ],
      "metadata": {
        "id": "55T7dbmqL7L2"
      }
    },
    {
      "cell_type": "code",
      "source": [
        "#Building the linear regression model\n",
        "from sklearn.linear_model import LinearRegression\n",
        "lr = LinearRegression()\n",
        "lr.fit(x_train, y_train)\n",
        "y_pred_lr = lr.predict(x_test)\n",
        "\n",
        "#Evaluating the model\n",
        "from sklearn.metrics import r2_score, mean_squared_error, mean_absolute_error\n",
        "print('R squared: ',r2_score(y_test,y_pred_lr))\n",
        "print('MSE: ',(mean_squared_error(y_test,y_pred_lr))**0.5)\n",
        "print('RMSE: ', np.sqrt(mean_squared_error(y_test,y_pred_lr))**0.5)\n",
        "print('MAE: ',mean_absolute_error(y_test, y_pred_lr))\n",
        "print('-------------------------------------')\n",
        "print(\"Cofficient\",lr.coef_)\n",
        "print(\"Intercept\",lr.intercept_)"
      ],
      "metadata": {
        "colab": {
          "base_uri": "https://localhost:8080/"
        },
        "id": "DxOAwA3otxBs",
        "outputId": "1b163b4b-5d22-4a9a-c1d0-d24e295a41d4"
      },
      "execution_count": null,
      "outputs": [
        {
          "output_type": "stream",
          "name": "stdout",
          "text": [
            "R squared:  0.9156213613792232\n",
            "MSE:  1.404651423032895\n",
            "RMSE:  1.185179911672863\n",
            "MAE:  1.0668917082595213\n",
            "-------------------------------------\n",
            "Cofficient [0.04656457 0.17915812 0.00345046]\n",
            "Intercept 2.87696662231793\n"
          ]
        }
      ]
    },
    {
      "cell_type": "markdown",
      "source": [
        "## **DECISION TREE REGRESSOR**"
      ],
      "metadata": {
        "id": "61z9qOkuHjJG"
      }
    },
    {
      "cell_type": "markdown",
      "source": [
        "* Decision tree builds regression or classification models in the form of a tree structure.\n",
        "\n",
        "* It breaks down a dataset into smaller and smaller subsets while at the same time an associated decision tree is incrementally developed.\n",
        "\n",
        "* The final result is a tree with decision nodes and leaf nodes.\n",
        "\n",
        "* It is a graphical representation for getting all the possible solutions to a problem/decision based on given conditions."
      ],
      "metadata": {
        "id": "ok_G4Ro3MmvU"
      }
    },
    {
      "cell_type": "code",
      "source": [
        "# Decision tree regression\n",
        "from sklearn.tree import DecisionTreeRegressor\n",
        "dtr = DecisionTreeRegressor()\n",
        "dtr.fit(x_train, y_train)\n",
        "y_pred_dtr = dtr.predict(x_test)\n",
        "\n",
        "#Evaluating the model\n",
        "from sklearn.metrics import r2_score, mean_squared_error, mean_absolute_error\n",
        "print('R squared: ',r2_score(y_test,y_pred_dtr))\n",
        "print('MSE: ',(mean_squared_error(y_test,y_pred_dtr))**0.5)\n",
        "print('RMSE: ', np.sqrt(mean_squared_error(y_test,y_pred_lr))**0.5)\n",
        "print('MAE: ',mean_absolute_error(y_test, y_pred_dtr))"
      ],
      "metadata": {
        "colab": {
          "base_uri": "https://localhost:8080/"
        },
        "id": "SWY8xVwkHe6K",
        "outputId": "26d749ea-7cd7-4efb-adc1-3f404aba1ed2"
      },
      "execution_count": null,
      "outputs": [
        {
          "output_type": "stream",
          "name": "stdout",
          "text": [
            "R squared:  0.9572856383094281\n",
            "MSE:  0.999399819891919\n",
            "RMSE:  1.185179911672863\n",
            "MAE:  0.68\n"
          ]
        }
      ]
    },
    {
      "cell_type": "markdown",
      "source": [
        "## **RANDOM TREE REGRESSOR**"
      ],
      "metadata": {
        "id": "N5rP82nGHowm"
      }
    },
    {
      "cell_type": "markdown",
      "source": [
        "* Random Forest Regression is a supervised learning algorithm that uses ensemble learning method for regression.\n",
        "\n",
        "* Random Forest is a regressor that contains a number of decision trees on various subsets of the given dataset and takes the majority to improve the accuracy of that dataset.\n",
        "\n",
        "* A Random Forest Regression model is powerful and accurate.\n",
        "\n",
        "* The greater number of trees in the forest leads to higher accuracy and prevents the problem of overfitting."
      ],
      "metadata": {
        "id": "hddKseQVNCEc"
      }
    },
    {
      "cell_type": "code",
      "source": [
        "from sklearn.ensemble import RandomForestRegressor\n",
        "rfr = RandomForestRegressor()\n",
        "rfr.fit(x_train, y_train)\n",
        "y_pred_rfr = rfr.predict(x_test)\n",
        "\n",
        "#Evaluating the model\n",
        "from sklearn.metrics import r2_score, mean_squared_error, mean_absolute_error\n",
        "print('R squared: ',r2_score(y_test,y_pred_rfr))\n",
        "print('MSE: ',(mean_squared_error(y_test,y_pred_rfr))**0.5)\n",
        "print('RMSE: ', np.sqrt(mean_squared_error(y_test,y_pred_lr))**0.5)\n",
        "print('MAE: ',mean_absolute_error(y_test, y_pred_rfr))"
      ],
      "metadata": {
        "colab": {
          "base_uri": "https://localhost:8080/"
        },
        "id": "9F2VKEvZHfS1",
        "outputId": "80b36282-e590-460a-c07e-41e9a14b7e4f"
      },
      "execution_count": null,
      "outputs": [
        {
          "output_type": "stream",
          "name": "stdout",
          "text": [
            "R squared:  0.9823264641386675\n",
            "MSE:  0.6428564847615674\n",
            "RMSE:  1.185179911672863\n",
            "MAE:  0.5100599999999996\n"
          ]
        }
      ]
    },
    {
      "cell_type": "markdown",
      "source": [
        "### **Random Forest Regressor performs with the highest accuarcy**"
      ],
      "metadata": {
        "id": "uAJsbJxVN9hT"
      }
    },
    {
      "cell_type": "markdown",
      "source": [
        "# **HYPERPARAMETER TUNING**"
      ],
      "metadata": {
        "id": "UMiiUNHXH10-"
      }
    },
    {
      "cell_type": "markdown",
      "source": [
        "## **RANDOM TREE REGRESSOR**"
      ],
      "metadata": {
        "id": "xFKa8YjyIDEW"
      }
    },
    {
      "cell_type": "code",
      "source": [
        "# Define the parameter grid for hyperparameter tuning\n",
        "param_grid = {\n",
        "    'n_estimators': [100, 200, 500],  # Number of trees in the forest\n",
        "    'max_depth': [None, 3, 5, 7],  # Maximum depth of the trees\n",
        "    'min_samples_split': [2, 5, 10],  # Minimum number of samples required to split a node\n",
        "    'min_samples_leaf': [1, 2, 4],  # Minimum number of samples required at each leaf node\n",
        "}\n",
        "\n",
        "# Perform grid search with cross-validation\n",
        "from sklearn.model_selection import GridSearchCV\n",
        "grid_search = GridSearchCV(rfr, param_grid, cv=5)\n",
        "grid_search.fit(x_train, y_train)\n",
        "\n",
        "# Print the best parameters found\n",
        "print(\"Best Parameters: \", grid_search.best_params_)\n",
        "print(f\"Best score: {grid_search.best_score_:.4f}\")"
      ],
      "metadata": {
        "colab": {
          "base_uri": "https://localhost:8080/"
        },
        "id": "ViBv7scgHfMB",
        "outputId": "e743ad92-ed60-42ae-f22e-a74c78e4cb57"
      },
      "execution_count": null,
      "outputs": [
        {
          "output_type": "stream",
          "name": "stdout",
          "text": [
            "Best Parameters:  {'max_depth': None, 'min_samples_leaf': 1, 'min_samples_split': 2, 'n_estimators': 100}\n",
            "Best score: 0.9703\n"
          ]
        }
      ]
    },
    {
      "cell_type": "markdown",
      "source": [
        "# **FINAL MODEL**"
      ],
      "metadata": {
        "id": "zxwzVT3VKOs1"
      }
    },
    {
      "cell_type": "code",
      "source": [
        "from sklearn.ensemble import RandomForestRegressor\n",
        "rfr = RandomForestRegressor(max_depth=7, min_samples_leaf=1, min_samples_split=2, n_estimators=200)\n",
        "rfr.fit(x_train, y_train)\n",
        "y_pred_rfr = rfr.predict(x_test)\n",
        "\n",
        "#Evaluating the model\n",
        "from sklearn.metrics import r2_score, mean_squared_error, mean_absolute_error\n",
        "print('R squared: ',r2_score(y_test,y_pred_rfr))\n",
        "print('MSE: ',(mean_squared_error(y_test,y_pred_rfr))**0.5)\n",
        "print('RMSE: ', np.sqrt(mean_squared_error(y_test,y_pred_lr))**0.5)\n",
        "print('MAE: ',mean_absolute_error(y_test, y_pred_rfr))"
      ],
      "metadata": {
        "colab": {
          "base_uri": "https://localhost:8080/"
        },
        "id": "hvdm5cF3HfJu",
        "outputId": "6c4053ce-5f9b-4e78-dbfa-bf8c6e365cb4"
      },
      "execution_count": null,
      "outputs": [
        {
          "output_type": "stream",
          "name": "stdout",
          "text": [
            "R squared:  0.9812546317438489\n",
            "MSE:  0.66206296516305\n",
            "MAE:  0.5252896846764404\n"
          ]
        }
      ]
    }
  ]
}